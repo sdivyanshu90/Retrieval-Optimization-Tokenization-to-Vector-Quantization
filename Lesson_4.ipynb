{
 "cells": [
  {
   "cell_type": "markdown",
   "id": "56bb3b2c-faeb-41ec-8499-508a8bc71b76",
   "metadata": {},
   "source": [
    "# L4: Measuring Search Relevance"
   ]
  },
  {
   "cell_type": "markdown",
   "id": "f03ebe39-1826-4b8c-a7ab-13b03abd371b",
   "metadata": {},
   "source": [
    "<p style=\"background-color:#fff6e4; padding:15px; border-width:3px; border-color:#f5ecda; border-style:solid; border-radius:6px\"> ⏳ <b>Note <code>(Kernel Starting)</code>:</b> This notebook takes about 30 seconds to be ready to use. You may start and watch the video while you wait.</p>"
   ]
  },
  {
   "cell_type": "code",
   "execution_count": 1,
   "id": "59e0f708-8068-436d-858d-d95254e57273",
   "metadata": {
    "height": 47
   },
   "outputs": [],
   "source": [
    "import warnings\n",
    "warnings.filterwarnings('ignore')"
   ]
  },
  {
   "cell_type": "code",
   "execution_count": 2,
   "id": "e79d2302-3983-4e72-a6b0-262d63fd57ad",
   "metadata": {
    "height": 183
   },
   "outputs": [
    {
     "data": {
      "text/html": [
       "<div>\n",
       "<style scoped>\n",
       "    .dataframe tbody tr th:only-of-type {\n",
       "        vertical-align: middle;\n",
       "    }\n",
       "\n",
       "    .dataframe tbody tr th {\n",
       "        vertical-align: top;\n",
       "    }\n",
       "\n",
       "    .dataframe thead th {\n",
       "        text-align: right;\n",
       "    }\n",
       "</style>\n",
       "<table border=\"1\" class=\"dataframe\">\n",
       "  <thead>\n",
       "    <tr style=\"text-align: right;\">\n",
       "      <th></th>\n",
       "      <th>product_name</th>\n",
       "      <th>product_class</th>\n",
       "      <th>category hierarchy</th>\n",
       "      <th>product_description</th>\n",
       "      <th>product_features</th>\n",
       "      <th>rating_count</th>\n",
       "      <th>average_rating</th>\n",
       "      <th>review_count</th>\n",
       "    </tr>\n",
       "    <tr>\n",
       "      <th>product_id</th>\n",
       "      <th></th>\n",
       "      <th></th>\n",
       "      <th></th>\n",
       "      <th></th>\n",
       "      <th></th>\n",
       "      <th></th>\n",
       "      <th></th>\n",
       "      <th></th>\n",
       "    </tr>\n",
       "  </thead>\n",
       "  <tbody>\n",
       "    <tr>\n",
       "      <th>0</th>\n",
       "      <td>solid wood platform bed</td>\n",
       "      <td>Beds</td>\n",
       "      <td>Furniture / Bedroom Furniture / Beds &amp; Headboa...</td>\n",
       "      <td>good , deep sleep can be quite difficult to ha...</td>\n",
       "      <td>overallwidth-sidetoside:64.7|dsprimaryproducts...</td>\n",
       "      <td>15.0</td>\n",
       "      <td>4.5</td>\n",
       "      <td>15.0</td>\n",
       "    </tr>\n",
       "    <tr>\n",
       "      <th>1</th>\n",
       "      <td>all-clad 7 qt . slow cooker</td>\n",
       "      <td>Slow Cookers</td>\n",
       "      <td>Kitchen &amp; Tabletop / Small Kitchen Appliances ...</td>\n",
       "      <td>create delicious slow-cooked meals , from tend...</td>\n",
       "      <td>capacityquarts:7|producttype : slow cooker|pro...</td>\n",
       "      <td>100.0</td>\n",
       "      <td>2.0</td>\n",
       "      <td>98.0</td>\n",
       "    </tr>\n",
       "    <tr>\n",
       "      <th>2</th>\n",
       "      <td>all-clad electrics 6.5 qt . slow cooker</td>\n",
       "      <td>Slow Cookers</td>\n",
       "      <td>Kitchen &amp; Tabletop / Small Kitchen Appliances ...</td>\n",
       "      <td>prepare home-cooked meals on any schedule with...</td>\n",
       "      <td>features : keep warm setting|capacityquarts:6....</td>\n",
       "      <td>208.0</td>\n",
       "      <td>3.0</td>\n",
       "      <td>181.0</td>\n",
       "    </tr>\n",
       "    <tr>\n",
       "      <th>3</th>\n",
       "      <td>all-clad all professional tools pizza cutter</td>\n",
       "      <td>Slicers, Peelers And Graters</td>\n",
       "      <td>Browse By Brand / All-Clad</td>\n",
       "      <td>this original stainless tool was designed to c...</td>\n",
       "      <td>overallwidth-sidetoside:3.5|warrantylength : l...</td>\n",
       "      <td>69.0</td>\n",
       "      <td>4.5</td>\n",
       "      <td>42.0</td>\n",
       "    </tr>\n",
       "    <tr>\n",
       "      <th>4</th>\n",
       "      <td>baldwin prestige alcott passage knob with roun...</td>\n",
       "      <td>Door Knobs</td>\n",
       "      <td>Home Improvement / Doors &amp; Door Hardware / Doo...</td>\n",
       "      <td>the hardware has a rich heritage of delivering...</td>\n",
       "      <td>compatibledoorthickness:1.375 '' |countryofori...</td>\n",
       "      <td>70.0</td>\n",
       "      <td>5.0</td>\n",
       "      <td>42.0</td>\n",
       "    </tr>\n",
       "  </tbody>\n",
       "</table>\n",
       "</div>"
      ],
      "text/plain": [
       "                                                 product_name  \\\n",
       "product_id                                                      \n",
       "0                                     solid wood platform bed   \n",
       "1                                 all-clad 7 qt . slow cooker   \n",
       "2                     all-clad electrics 6.5 qt . slow cooker   \n",
       "3                all-clad all professional tools pizza cutter   \n",
       "4           baldwin prestige alcott passage knob with roun...   \n",
       "\n",
       "                           product_class  \\\n",
       "product_id                                 \n",
       "0                                   Beds   \n",
       "1                           Slow Cookers   \n",
       "2                           Slow Cookers   \n",
       "3           Slicers, Peelers And Graters   \n",
       "4                             Door Knobs   \n",
       "\n",
       "                                           category hierarchy  \\\n",
       "product_id                                                      \n",
       "0           Furniture / Bedroom Furniture / Beds & Headboa...   \n",
       "1           Kitchen & Tabletop / Small Kitchen Appliances ...   \n",
       "2           Kitchen & Tabletop / Small Kitchen Appliances ...   \n",
       "3                                  Browse By Brand / All-Clad   \n",
       "4           Home Improvement / Doors & Door Hardware / Doo...   \n",
       "\n",
       "                                          product_description  \\\n",
       "product_id                                                      \n",
       "0           good , deep sleep can be quite difficult to ha...   \n",
       "1           create delicious slow-cooked meals , from tend...   \n",
       "2           prepare home-cooked meals on any schedule with...   \n",
       "3           this original stainless tool was designed to c...   \n",
       "4           the hardware has a rich heritage of delivering...   \n",
       "\n",
       "                                             product_features rating_count  \\\n",
       "product_id                                                                   \n",
       "0           overallwidth-sidetoside:64.7|dsprimaryproducts...         15.0   \n",
       "1           capacityquarts:7|producttype : slow cooker|pro...        100.0   \n",
       "2           features : keep warm setting|capacityquarts:6....        208.0   \n",
       "3           overallwidth-sidetoside:3.5|warrantylength : l...         69.0   \n",
       "4           compatibledoorthickness:1.375 '' |countryofori...         70.0   \n",
       "\n",
       "           average_rating review_count  \n",
       "product_id                              \n",
       "0                     4.5         15.0  \n",
       "1                     2.0         98.0  \n",
       "2                     3.0        181.0  \n",
       "3                     4.5         42.0  \n",
       "4                     5.0         42.0  "
      ]
     },
     "execution_count": 2,
     "metadata": {},
     "output_type": "execute_result"
    }
   ],
   "source": [
    "import pandas as pd\n",
    "\n",
    "products_df = pd.read_csv(\n",
    "    \"shared_data/WANDS/product.csv\", \n",
    "    sep=\"\\t\", \n",
    "    index_col=\"product_id\", \n",
    "    keep_default_na=False,  # some products do not have a description\n",
    ")\n",
    "products_df.head()"
   ]
  },
  {
   "cell_type": "markdown",
   "id": "05d99475-47a5-4e9a-9aff-54e946976fa1",
   "metadata": {},
   "source": [
    "<p style=\"background-color:#fff6ff; padding:15px; border-width:3px; border-color:#efe6ef; border-style:solid; border-radius:6px\"> 💻 &nbsp; <b>Access <code>requirements.txt</code> and <code>helper.py</code> files:</b> 1) click on the <em>\"File\"</em> option on the top menu of the notebook and then 2) click on <em>\"Open\"</em>. For more help, please see the <em>\"Appendix - Tips and Help\"</em> Lesson.</p>"
   ]
  },
  {
   "cell_type": "code",
   "execution_count": 3,
   "id": "8d5379f6-be97-4dcf-98a3-060d88d4d3c6",
   "metadata": {
    "height": 30
   },
   "outputs": [],
   "source": [
    "num_products = 5000"
   ]
  },
  {
   "cell_type": "code",
   "execution_count": 4,
   "id": "ea4289b9-1761-4dce-8faf-b4be05dab0b2",
   "metadata": {
    "height": 166
   },
   "outputs": [
    {
     "data": {
      "application/vnd.jupyter.widget-view+json": {
       "model_id": "4747b02e10d74c45b828709bdf36145e",
       "version_major": 2,
       "version_minor": 0
      },
      "text/plain": [
       "modules.json:   0%|          | 0.00/349 [00:00<?, ?B/s]"
      ]
     },
     "metadata": {},
     "output_type": "display_data"
    },
    {
     "data": {
      "application/vnd.jupyter.widget-view+json": {
       "model_id": "b567a625b1b14780a81bff4efa6b3034",
       "version_major": 2,
       "version_minor": 0
      },
      "text/plain": [
       "config_sentence_transformers.json:   0%|          | 0.00/116 [00:00<?, ?B/s]"
      ]
     },
     "metadata": {},
     "output_type": "display_data"
    },
    {
     "data": {
      "application/vnd.jupyter.widget-view+json": {
       "model_id": "df70626ce92145b998a6d2c3be92c1f2",
       "version_major": 2,
       "version_minor": 0
      },
      "text/plain": [
       "README.md: 0.00B [00:00, ?B/s]"
      ]
     },
     "metadata": {},
     "output_type": "display_data"
    },
    {
     "data": {
      "application/vnd.jupyter.widget-view+json": {
       "model_id": "d369cbd76fe742acbbee5fbcbac7a68f",
       "version_major": 2,
       "version_minor": 0
      },
      "text/plain": [
       "sentence_bert_config.json:   0%|          | 0.00/53.0 [00:00<?, ?B/s]"
      ]
     },
     "metadata": {},
     "output_type": "display_data"
    },
    {
     "data": {
      "application/vnd.jupyter.widget-view+json": {
       "model_id": "e86e2cd708384f368d31ff89b728b70f",
       "version_major": 2,
       "version_minor": 0
      },
      "text/plain": [
       "config.json:   0%|          | 0.00/612 [00:00<?, ?B/s]"
      ]
     },
     "metadata": {},
     "output_type": "display_data"
    },
    {
     "data": {
      "application/vnd.jupyter.widget-view+json": {
       "model_id": "608f34bbe949495ca0d247dfad0840b8",
       "version_major": 2,
       "version_minor": 0
      },
      "text/plain": [
       "model.safetensors:   0%|          | 0.00/90.9M [00:00<?, ?B/s]"
      ]
     },
     "metadata": {},
     "output_type": "display_data"
    },
    {
     "data": {
      "application/vnd.jupyter.widget-view+json": {
       "model_id": "fed5f435f8ad494ba8afddf97c2e1ce9",
       "version_major": 2,
       "version_minor": 0
      },
      "text/plain": [
       "tokenizer_config.json:   0%|          | 0.00/350 [00:00<?, ?B/s]"
      ]
     },
     "metadata": {},
     "output_type": "display_data"
    },
    {
     "data": {
      "application/vnd.jupyter.widget-view+json": {
       "model_id": "ef98a705509c482eaa6a58012c461f9c",
       "version_major": 2,
       "version_minor": 0
      },
      "text/plain": [
       "vocab.txt: 0.00B [00:00, ?B/s]"
      ]
     },
     "metadata": {},
     "output_type": "display_data"
    },
    {
     "data": {
      "application/vnd.jupyter.widget-view+json": {
       "model_id": "25e23e12397f46f8b75ffc008b1d355c",
       "version_major": 2,
       "version_minor": 0
      },
      "text/plain": [
       "tokenizer.json: 0.00B [00:00, ?B/s]"
      ]
     },
     "metadata": {},
     "output_type": "display_data"
    },
    {
     "data": {
      "application/vnd.jupyter.widget-view+json": {
       "model_id": "97153bf7e3334228b97559eb5359c71a",
       "version_major": 2,
       "version_minor": 0
      },
      "text/plain": [
       "special_tokens_map.json:   0%|          | 0.00/112 [00:00<?, ?B/s]"
      ]
     },
     "metadata": {},
     "output_type": "display_data"
    },
    {
     "data": {
      "application/vnd.jupyter.widget-view+json": {
       "model_id": "0d5d1f7e9ea244b0bf60660b25b87e20",
       "version_major": 2,
       "version_minor": 0
      },
      "text/plain": [
       "1_Pooling/config.json:   0%|          | 0.00/190 [00:00<?, ?B/s]"
      ]
     },
     "metadata": {},
     "output_type": "display_data"
    },
    {
     "data": {
      "text/plain": [
       "(5000, 384)"
      ]
     },
     "execution_count": 4,
     "metadata": {},
     "output_type": "execute_result"
    }
   ],
   "source": [
    "from sentence_transformers import SentenceTransformer\n",
    "\n",
    "model = SentenceTransformer(\"all-MiniLM-L6-v2\")\n",
    "\n",
    "product_name_embeddings = model.encode(\n",
    "    products_df[\"product_name\"][0:num_products].tolist()\n",
    ")\n",
    "product_name_embeddings.shape"
   ]
  },
  {
   "cell_type": "code",
   "execution_count": 5,
   "id": "6851df66-ded3-40f2-b252-c680a32921de",
   "metadata": {
    "height": 98
   },
   "outputs": [
    {
     "data": {
      "text/plain": [
       "(5000, 384)"
      ]
     },
     "execution_count": 5,
     "metadata": {},
     "output_type": "execute_result"
    }
   ],
   "source": [
    "product_description_embeddings = model.encode(\n",
    "    products_df[\"product_description\"][0:num_products].tolist()\n",
    ")\n",
    "product_description_embeddings.shape"
   ]
  },
  {
   "cell_type": "markdown",
   "id": "5772c4de-db5e-448d-8eb1-4641c3b180b8",
   "metadata": {},
   "source": [
    "## Building the collection"
   ]
  },
  {
   "cell_type": "code",
   "execution_count": 6,
   "id": "74912810-c4ef-4373-86d6-77a095ef01ec",
   "metadata": {
    "height": 387
   },
   "outputs": [
    {
     "data": {
      "text/plain": [
       "True"
      ]
     },
     "execution_count": 6,
     "metadata": {},
     "output_type": "execute_result"
    }
   ],
   "source": [
    "from qdrant_client import QdrantClient, models\n",
    "\n",
    "client = QdrantClient(\"http://localhost:6333\")\n",
    "client.delete_collection(\"wands-products\")\n",
    "client.create_collection(\n",
    "    collection_name=\"wands-products\",\n",
    "    vectors_config={\n",
    "        \"product_name\": models.VectorParams(\n",
    "            size=384,\n",
    "            distance=models.Distance.COSINE,\n",
    "        ),\n",
    "        \"product_description\": models.VectorParams(\n",
    "            size=384,\n",
    "            distance=models.Distance.COSINE,\n",
    "        ),\n",
    "    },\n",
    "    optimizers_config=models.OptimizersConfigDiff(\n",
    "        default_segment_number=2,\n",
    "        indexing_threshold=1000,\n",
    "    ),\n",
    ")"
   ]
  },
  {
   "cell_type": "code",
   "execution_count": 7,
   "id": "671646d9-3403-4ef7-ae20-72af7fbdad96",
   "metadata": {
    "height": 200
   },
   "outputs": [],
   "source": [
    "client.upload_collection(\n",
    "    collection_name=\"wands-products\",\n",
    "    vectors={\n",
    "        \"product_name\": product_name_embeddings,\n",
    "        \"product_description\": product_description_embeddings,\n",
    "    },\n",
    "    payload=products_df.to_dict(orient=\"records\"),\n",
    "    ids=products_df.index.tolist(),\n",
    "    batch_size=64,\n",
    ")"
   ]
  },
  {
   "cell_type": "code",
   "execution_count": 8,
   "id": "1e02ebb5-e9e2-4613-948a-655775249ea6",
   "metadata": {
    "height": 30
   },
   "outputs": [
    {
     "data": {
      "text/plain": [
       "CountResult(count=5000)"
      ]
     },
     "execution_count": 8,
     "metadata": {},
     "output_type": "execute_result"
    }
   ],
   "source": [
    "client.count(\"wands-products\")"
   ]
  },
  {
   "cell_type": "code",
   "execution_count": 9,
   "id": "3657ed96-81a5-409b-9502-9eaf551fe434",
   "metadata": {
    "height": 183
   },
   "outputs": [
    {
     "data": {
      "text/plain": [
       "CollectionInfo(status=<CollectionStatus.GREEN: 'green'>, optimizer_status=<OptimizersStatusOneOf.OK: 'ok'>, vectors_count=None, indexed_vectors_count=9344, points_count=5000, segments_count=2, config=CollectionConfig(params=CollectionParams(vectors={'product_description': VectorParams(size=384, distance=<Distance.COSINE: 'Cosine'>, hnsw_config=None, quantization_config=None, on_disk=None, datatype=None), 'product_name': VectorParams(size=384, distance=<Distance.COSINE: 'Cosine'>, hnsw_config=None, quantization_config=None, on_disk=None, datatype=None)}, shard_number=1, sharding_method=None, replication_factor=1, write_consistency_factor=1, read_fan_out_factor=None, on_disk_payload=True, sparse_vectors=None), hnsw_config=HnswConfig(m=16, ef_construct=100, full_scan_threshold=10000, max_indexing_threads=0, on_disk=False, payload_m=None), optimizer_config=OptimizersConfig(deleted_threshold=0.2, vacuum_min_vector_number=1000, default_segment_number=2, max_segment_size=None, memmap_threshold=None, indexing_threshold=1000, flush_interval_sec=5, max_optimization_threads=None), wal_config=WalConfig(wal_capacity_mb=32, wal_segments_ahead=0), quantization_config=None), payload_schema={})"
      ]
     },
     "execution_count": 9,
     "metadata": {},
     "output_type": "execute_result"
    }
   ],
   "source": [
    "import time\n",
    "\n",
    "time.sleep(1.0)\n",
    "collection = client.get_collection(\"wands-products\")\n",
    "while collection.status != models.CollectionStatus.GREEN:\n",
    "    time.sleep(1.0)\n",
    "    collection = client.get_collection(\"wands-products\")\n",
    "    \n",
    "collection"
   ]
  },
  {
   "cell_type": "markdown",
   "id": "a37e2887-5722-4288-bebf-8b780a22f16e",
   "metadata": {},
   "source": [
    "## Test queries"
   ]
  },
  {
   "cell_type": "code",
   "execution_count": 10,
   "id": "daef2453-f14d-4d77-9f33-b9285bd71920",
   "metadata": {
    "height": 115
   },
   "outputs": [
    {
     "data": {
      "text/html": [
       "<div>\n",
       "<style scoped>\n",
       "    .dataframe tbody tr th:only-of-type {\n",
       "        vertical-align: middle;\n",
       "    }\n",
       "\n",
       "    .dataframe tbody tr th {\n",
       "        vertical-align: top;\n",
       "    }\n",
       "\n",
       "    .dataframe thead th {\n",
       "        text-align: right;\n",
       "    }\n",
       "</style>\n",
       "<table border=\"1\" class=\"dataframe\">\n",
       "  <thead>\n",
       "    <tr style=\"text-align: right;\">\n",
       "      <th></th>\n",
       "      <th>query</th>\n",
       "      <th>query_class</th>\n",
       "    </tr>\n",
       "    <tr>\n",
       "      <th>query_id</th>\n",
       "      <th></th>\n",
       "      <th></th>\n",
       "    </tr>\n",
       "  </thead>\n",
       "  <tbody>\n",
       "    <tr>\n",
       "      <th>0</th>\n",
       "      <td>salon chair</td>\n",
       "      <td>Massage Chairs</td>\n",
       "    </tr>\n",
       "    <tr>\n",
       "      <th>1</th>\n",
       "      <td>smart coffee table</td>\n",
       "      <td>Coffee &amp; Cocktail Tables</td>\n",
       "    </tr>\n",
       "    <tr>\n",
       "      <th>2</th>\n",
       "      <td>dinosaur</td>\n",
       "      <td>Kids Wall Décor</td>\n",
       "    </tr>\n",
       "    <tr>\n",
       "      <th>3</th>\n",
       "      <td>turquoise pillows</td>\n",
       "      <td>Accent Pillows</td>\n",
       "    </tr>\n",
       "    <tr>\n",
       "      <th>4</th>\n",
       "      <td>chair and a half recliner</td>\n",
       "      <td>Recliners</td>\n",
       "    </tr>\n",
       "  </tbody>\n",
       "</table>\n",
       "</div>"
      ],
      "text/plain": [
       "                              query               query_class\n",
       "query_id                                                     \n",
       "0                       salon chair            Massage Chairs\n",
       "1                smart coffee table  Coffee & Cocktail Tables\n",
       "2                          dinosaur           Kids Wall Décor\n",
       "3                 turquoise pillows            Accent Pillows\n",
       "4         chair and a half recliner                 Recliners"
      ]
     },
     "execution_count": 10,
     "metadata": {},
     "output_type": "execute_result"
    }
   ],
   "source": [
    "queries_df = pd.read_csv(\n",
    "    \"shared_data/WANDS/query.csv\", \n",
    "    sep=\"\\t\", \n",
    "    index_col=\"query_id\",\n",
    ")\n",
    "queries_df.head()"
   ]
  },
  {
   "cell_type": "markdown",
   "id": "50dc985b-24e4-46a6-a94c-ecee4545249a",
   "metadata": {},
   "source": [
    "## Ground truth"
   ]
  },
  {
   "cell_type": "code",
   "execution_count": 11,
   "id": "455e1f41-e3a1-4366-bfac-44e6ac191aba",
   "metadata": {
    "height": 98
   },
   "outputs": [
    {
     "data": {
      "text/html": [
       "<div>\n",
       "<style scoped>\n",
       "    .dataframe tbody tr th:only-of-type {\n",
       "        vertical-align: middle;\n",
       "    }\n",
       "\n",
       "    .dataframe tbody tr th {\n",
       "        vertical-align: top;\n",
       "    }\n",
       "\n",
       "    .dataframe thead th {\n",
       "        text-align: right;\n",
       "    }\n",
       "</style>\n",
       "<table border=\"1\" class=\"dataframe\">\n",
       "  <thead>\n",
       "    <tr style=\"text-align: right;\">\n",
       "      <th></th>\n",
       "      <th>id</th>\n",
       "      <th>query_id</th>\n",
       "      <th>product_id</th>\n",
       "      <th>label</th>\n",
       "    </tr>\n",
       "  </thead>\n",
       "  <tbody>\n",
       "    <tr>\n",
       "      <th>109309</th>\n",
       "      <td>109483</td>\n",
       "      <td>221</td>\n",
       "      <td>26072</td>\n",
       "      <td>Partial</td>\n",
       "    </tr>\n",
       "    <tr>\n",
       "      <th>109704</th>\n",
       "      <td>109878</td>\n",
       "      <td>221</td>\n",
       "      <td>41212</td>\n",
       "      <td>Irrelevant</td>\n",
       "    </tr>\n",
       "    <tr>\n",
       "      <th>169943</th>\n",
       "      <td>170510</td>\n",
       "      <td>422</td>\n",
       "      <td>18050</td>\n",
       "      <td>Partial</td>\n",
       "    </tr>\n",
       "    <tr>\n",
       "      <th>227460</th>\n",
       "      <td>228027</td>\n",
       "      <td>123</td>\n",
       "      <td>4947</td>\n",
       "      <td>Irrelevant</td>\n",
       "    </tr>\n",
       "    <tr>\n",
       "      <th>156470</th>\n",
       "      <td>157037</td>\n",
       "      <td>395</td>\n",
       "      <td>11880</td>\n",
       "      <td>Irrelevant</td>\n",
       "    </tr>\n",
       "  </tbody>\n",
       "</table>\n",
       "</div>"
      ],
      "text/plain": [
       "            id  query_id  product_id       label\n",
       "109309  109483       221       26072     Partial\n",
       "109704  109878       221       41212  Irrelevant\n",
       "169943  170510       422       18050     Partial\n",
       "227460  228027       123        4947  Irrelevant\n",
       "156470  157037       395       11880  Irrelevant"
      ]
     },
     "execution_count": 11,
     "metadata": {},
     "output_type": "execute_result"
    }
   ],
   "source": [
    "labels_df = pd.read_csv(\n",
    "    \"shared_data/WANDS/label.csv\", \n",
    "    sep=\"\\t\", \n",
    ")\n",
    "labels_df.sample(n=5)"
   ]
  },
  {
   "cell_type": "code",
   "execution_count": 12,
   "id": "0bc73f36-ce2c-45d6-b2e6-834e7b7fe24d",
   "metadata": {
    "height": 200
   },
   "outputs": [
    {
     "data": {
      "text/html": [
       "<div>\n",
       "<style scoped>\n",
       "    .dataframe tbody tr th:only-of-type {\n",
       "        vertical-align: middle;\n",
       "    }\n",
       "\n",
       "    .dataframe tbody tr th {\n",
       "        vertical-align: top;\n",
       "    }\n",
       "\n",
       "    .dataframe thead th {\n",
       "        text-align: right;\n",
       "    }\n",
       "</style>\n",
       "<table border=\"1\" class=\"dataframe\">\n",
       "  <thead>\n",
       "    <tr style=\"text-align: right;\">\n",
       "      <th></th>\n",
       "      <th>id</th>\n",
       "      <th>query_id</th>\n",
       "      <th>product_id</th>\n",
       "      <th>label</th>\n",
       "      <th>score</th>\n",
       "    </tr>\n",
       "  </thead>\n",
       "  <tbody>\n",
       "    <tr>\n",
       "      <th>6894</th>\n",
       "      <td>6894</td>\n",
       "      <td>query_53</td>\n",
       "      <td>doc_24624</td>\n",
       "      <td>Partial</td>\n",
       "      <td>5</td>\n",
       "    </tr>\n",
       "    <tr>\n",
       "      <th>117487</th>\n",
       "      <td>117661</td>\n",
       "      <td>query_239</td>\n",
       "      <td>doc_10142</td>\n",
       "      <td>Partial</td>\n",
       "      <td>5</td>\n",
       "    </tr>\n",
       "    <tr>\n",
       "      <th>14269</th>\n",
       "      <td>14269</td>\n",
       "      <td>query_108</td>\n",
       "      <td>doc_8326</td>\n",
       "      <td>Irrelevant</td>\n",
       "      <td>0</td>\n",
       "    </tr>\n",
       "    <tr>\n",
       "      <th>26351</th>\n",
       "      <td>26355</td>\n",
       "      <td>query_190</td>\n",
       "      <td>doc_31282</td>\n",
       "      <td>Partial</td>\n",
       "      <td>5</td>\n",
       "    </tr>\n",
       "    <tr>\n",
       "      <th>53645</th>\n",
       "      <td>53768</td>\n",
       "      <td>query_311</td>\n",
       "      <td>doc_31141</td>\n",
       "      <td>Irrelevant</td>\n",
       "      <td>0</td>\n",
       "    </tr>\n",
       "  </tbody>\n",
       "</table>\n",
       "</div>"
      ],
      "text/plain": [
       "            id   query_id product_id       label  score\n",
       "6894      6894   query_53  doc_24624     Partial      5\n",
       "117487  117661  query_239  doc_10142     Partial      5\n",
       "14269    14269  query_108   doc_8326  Irrelevant      0\n",
       "26351    26355  query_190  doc_31282     Partial      5\n",
       "53645    53768  query_311  doc_31141  Irrelevant      0"
      ]
     },
     "execution_count": 12,
     "metadata": {},
     "output_type": "execute_result"
    }
   ],
   "source": [
    "relevancy_scores = {\n",
    "    \"Exact\": 10,\n",
    "    \"Partial\": 5,\n",
    "    \"Irrelevant\": 0,\n",
    "}\n",
    "\n",
    "labels_df[\"score\"] = labels_df[\"label\"].map(relevancy_scores.get)\n",
    "labels_df[\"query_id\"] = labels_df[\"query_id\"].map(lambda x: f\"query_{x}\")\n",
    "labels_df[\"product_id\"] = labels_df[\"product_id\"].map(lambda x: f\"doc_{x}\")\n",
    "labels_df.sample(n=5)"
   ]
  },
  {
   "cell_type": "markdown",
   "id": "0f5c3d1c-9ec0-43c9-a24f-12b646c4ffbc",
   "metadata": {},
   "source": [
    "## ranx"
   ]
  },
  {
   "cell_type": "code",
   "execution_count": 13,
   "id": "b6c9f6ec-7612-4fc0-9de5-fe9af772e8b4",
   "metadata": {
    "height": 166
   },
   "outputs": [],
   "source": [
    "from ranx import Qrels\n",
    "\n",
    "qrels = Qrels.from_df(\n",
    "    labels_df.astype({\"query_id\": \"str\", \"product_id\": \"str\"}),\n",
    "    q_id_col=\"query_id\",\n",
    "    doc_id_col=\"product_id\", \n",
    "    score_col=\"score\",\n",
    ")"
   ]
  },
  {
   "cell_type": "markdown",
   "id": "e85e2d9f-68d7-40f6-ae33-2409df8d4888",
   "metadata": {},
   "source": [
    "### Running all the queries"
   ]
  },
  {
   "cell_type": "code",
   "execution_count": 14,
   "id": "cbb4b03d-a3b8-4456-9615-3e4bf86ed19e",
   "metadata": {
    "height": 98
   },
   "outputs": [
    {
     "data": {
      "text/html": [
       "<div>\n",
       "<style scoped>\n",
       "    .dataframe tbody tr th:only-of-type {\n",
       "        vertical-align: middle;\n",
       "    }\n",
       "\n",
       "    .dataframe tbody tr th {\n",
       "        vertical-align: top;\n",
       "    }\n",
       "\n",
       "    .dataframe thead th {\n",
       "        text-align: right;\n",
       "    }\n",
       "</style>\n",
       "<table border=\"1\" class=\"dataframe\">\n",
       "  <thead>\n",
       "    <tr style=\"text-align: right;\">\n",
       "      <th></th>\n",
       "      <th>query</th>\n",
       "      <th>query_class</th>\n",
       "      <th>query_embedding</th>\n",
       "    </tr>\n",
       "    <tr>\n",
       "      <th>query_id</th>\n",
       "      <th></th>\n",
       "      <th></th>\n",
       "      <th></th>\n",
       "    </tr>\n",
       "  </thead>\n",
       "  <tbody>\n",
       "    <tr>\n",
       "      <th>393</th>\n",
       "      <td>propane gas dryer</td>\n",
       "      <td>Dryers</td>\n",
       "      <td>[-0.034098606556653976, 0.06044117361307144, -...</td>\n",
       "    </tr>\n",
       "    <tr>\n",
       "      <th>329</th>\n",
       "      <td>wayfair tension rod</td>\n",
       "      <td>Curtain Hardware &amp; Accessories</td>\n",
       "      <td>[-0.11285731196403503, -0.0012056048726662993,...</td>\n",
       "    </tr>\n",
       "    <tr>\n",
       "      <th>156</th>\n",
       "      <td>papasan chair frame only</td>\n",
       "      <td>Accent Chairs</td>\n",
       "      <td>[0.018093302845954895, 0.0820583924651146, -0....</td>\n",
       "    </tr>\n",
       "    <tr>\n",
       "      <th>148</th>\n",
       "      <td>industrial</td>\n",
       "      <td>Wall &amp; Accent Mirrors</td>\n",
       "      <td>[-0.06165311485528946, -0.0116422763094306, -0...</td>\n",
       "    </tr>\n",
       "    <tr>\n",
       "      <th>468</th>\n",
       "      <td>glow in the dark silent wall clock</td>\n",
       "      <td>Wall Clocks</td>\n",
       "      <td>[-0.02040187083184719, 0.04280582442879677, -0...</td>\n",
       "    </tr>\n",
       "  </tbody>\n",
       "</table>\n",
       "</div>"
      ],
      "text/plain": [
       "                                       query                     query_class  \\\n",
       "query_id                                                                       \n",
       "393                        propane gas dryer                          Dryers   \n",
       "329                      wayfair tension rod  Curtain Hardware & Accessories   \n",
       "156                 papasan chair frame only                   Accent Chairs   \n",
       "148                               industrial           Wall & Accent Mirrors   \n",
       "468       glow in the dark silent wall clock                     Wall Clocks   \n",
       "\n",
       "                                            query_embedding  \n",
       "query_id                                                     \n",
       "393       [-0.034098606556653976, 0.06044117361307144, -...  \n",
       "329       [-0.11285731196403503, -0.0012056048726662993,...  \n",
       "156       [0.018093302845954895, 0.0820583924651146, -0....  \n",
       "148       [-0.06165311485528946, -0.0116422763094306, -0...  \n",
       "468       [-0.02040187083184719, 0.04280582442879677, -0...  "
      ]
     },
     "execution_count": 14,
     "metadata": {},
     "output_type": "execute_result"
    }
   ],
   "source": [
    "queries_df[\"query_embedding\"] = model.encode(\n",
    "    queries_df[\"query\"].tolist()\n",
    ").tolist()\n",
    "queries_df.sample(n=5)"
   ]
  },
  {
   "cell_type": "code",
   "execution_count": null,
   "id": "5e99b0fe-8723-4193-aec4-7af50f4d296d",
   "metadata": {
    "height": 404
   },
   "outputs": [],
   "source": [
    "from collections import defaultdict\n",
    "\n",
    "name_run_dict = defaultdict(dict)\n",
    "for id, row in queries_df.iterrows():\n",
    "    query_id = f\"query_{id}\"\n",
    "    \n",
    "    results = client.search(\n",
    "        collection_name=\"wands-products\",\n",
    "        query_vector=models.NamedVector(\n",
    "            name=\"product_name\", \n",
    "            vector=row[\"query_embedding\"]\n",
    "        ),\n",
    "        with_vectors=False,\n",
    "        with_payload=False,\n",
    "        limit=100,\n",
    "    )\n",
    "\n",
    "    for point in results:\n",
    "        document_id = f\"doc_{point.id}\"\n",
    "        name_run_dict[query_id][document_id] = point.score  \n",
    "    \n",
    "name_run_dict"
   ]
  },
  {
   "cell_type": "code",
   "execution_count": null,
   "id": "594722c8-24b0-496b-9859-943071bc7b78",
   "metadata": {
    "height": 81
   },
   "outputs": [],
   "source": [
    "from ranx import Run\n",
    "\n",
    "product_name_run = Run(name_run_dict, name=\"product_name\")"
   ]
  },
  {
   "cell_type": "code",
   "execution_count": null,
   "id": "0abca87e-db68-498e-b137-d00a77f034b3",
   "metadata": {
    "height": 421
   },
   "outputs": [],
   "source": [
    "description_run_dict = defaultdict(dict)\n",
    "for id, row in queries_df.iterrows():\n",
    "    query_id = f\"query_{id}\"\n",
    "    \n",
    "    results = client.search(\n",
    "        collection_name=\"wands-products\",\n",
    "        query_vector=models.NamedVector(\n",
    "            name=\"product_description\", \n",
    "            vector=row[\"query_embedding\"]\n",
    "        ),\n",
    "        with_vectors=False,\n",
    "        with_payload=False,\n",
    "        limit=100,\n",
    "    )\n",
    "\n",
    "    for point in results:\n",
    "        document_id = f\"doc_{point.id}\"\n",
    "        description_run_dict[query_id][document_id] = point.score \n",
    "\n",
    "product_description_run = Run(\n",
    "    description_run_dict, \n",
    "    name=\"product_description\"\n",
    ")"
   ]
  },
  {
   "cell_type": "code",
   "execution_count": null,
   "id": "ccd22755-1115-4d9a-8ddb-3f3b2128941c",
   "metadata": {
    "height": 285
   },
   "outputs": [],
   "source": [
    "from ranx import compare\n",
    "\n",
    "compare(\n",
    "    qrels=qrels,\n",
    "    runs=[\n",
    "        product_name_run, \n",
    "        product_description_run\n",
    "    ],\n",
    "    metrics=[\n",
    "        \"precision@10\", \n",
    "        \"recall@10\", \n",
    "        \"mrr@10\",\n",
    "        \"dcg@10\", \n",
    "        \"ndcg@10\",\n",
    "    ],\n",
    ")"
   ]
  },
  {
   "cell_type": "code",
   "execution_count": null,
   "id": "3bf5ca5b-3b56-4b17-b647-d91bf0a6b33e",
   "metadata": {
    "height": 30
   },
   "outputs": [],
   "source": []
  },
  {
   "cell_type": "code",
   "execution_count": null,
   "id": "963521e9-bab7-4021-b21a-4775f38c994b",
   "metadata": {
    "height": 30
   },
   "outputs": [],
   "source": []
  },
  {
   "cell_type": "code",
   "execution_count": null,
   "id": "7500af15-5de5-498b-b098-6d1554783257",
   "metadata": {
    "height": 30
   },
   "outputs": [],
   "source": []
  },
  {
   "cell_type": "code",
   "execution_count": null,
   "id": "93ffe74e-968f-4b37-ab73-5686c18a8af7",
   "metadata": {
    "height": 30
   },
   "outputs": [],
   "source": []
  },
  {
   "cell_type": "code",
   "execution_count": null,
   "id": "ee843700-b778-4af3-901c-53d420b12f51",
   "metadata": {
    "height": 30
   },
   "outputs": [],
   "source": []
  },
  {
   "cell_type": "code",
   "execution_count": null,
   "id": "720a62bb-7713-4e88-acb1-621e1da38203",
   "metadata": {
    "height": 30
   },
   "outputs": [],
   "source": []
  },
  {
   "cell_type": "code",
   "execution_count": null,
   "id": "a0b8b6fc-ccac-4e52-96a7-a3fe610b62c8",
   "metadata": {
    "height": 30
   },
   "outputs": [],
   "source": []
  }
 ],
 "metadata": {
  "kernelspec": {
   "display_name": "Python 3 (ipykernel)",
   "language": "python",
   "name": "python3"
  },
  "language_info": {
   "codemirror_mode": {
    "name": "ipython",
    "version": 3
   },
   "file_extension": ".py",
   "mimetype": "text/x-python",
   "name": "python",
   "nbconvert_exporter": "python",
   "pygments_lexer": "ipython3",
   "version": "3.11.9"
  }
 },
 "nbformat": 4,
 "nbformat_minor": 5
}
